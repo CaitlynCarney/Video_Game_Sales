{
 "cells": [
  {
   "cell_type": "code",
   "execution_count": 1,
   "metadata": {},
   "outputs": [
    {
     "name": "stderr",
     "output_type": "stream",
     "text": [
      "/usr/local/anaconda3/lib/python3.8/site-packages/sklearn/utils/deprecation.py:143: FutureWarning: The sklearn.datasets.samples_generator module is  deprecated in version 0.22 and will be removed in version 0.24. The corresponding classes / functions should instead be imported from sklearn.datasets. Anything that cannot be imported from sklearn.datasets is now part of the private API.\n",
      "  warnings.warn(message, FutureWarning)\n"
     ]
    }
   ],
   "source": [
    "import openpyxl\n",
    "import pandas as pd\n",
    "import numpy as np\n",
    "\n",
    "import seaborn as sns\n",
    "import matplotlib.pyplot as plt\n",
    "%matplotlib inline\n",
    "\n",
    "import sklearn.preprocessing\n",
    "from sklearn.cluster import KMeans\n",
    "from sklearn.model_selection import train_test_split\n",
    "from sklearn.preprocessing import MinMaxScaler, StandardScaler\n",
    "from sklearn.datasets.samples_generator import make_blobs"
   ]
  },
  {
   "cell_type": "markdown",
   "metadata": {},
   "source": [
    "# Acquire Data\n",
    "I had to do it a special way since it us a a .xlsx"
   ]
  },
  {
   "cell_type": "code",
   "execution_count": 2,
   "metadata": {},
   "outputs": [],
   "source": [
    "wb = openpyxl.load_workbook(\"vgsales.csv.xlsx\")\n",
    "ws = wb.active\n",
    "\n",
    "df = pd.DataFrame(list(ws.iter_rows(values_only=True)))"
   ]
  },
  {
   "cell_type": "code",
   "execution_count": 3,
   "metadata": {},
   "outputs": [
    {
     "data": {
      "text/html": [
       "<div>\n",
       "<style scoped>\n",
       "    .dataframe tbody tr th:only-of-type {\n",
       "        vertical-align: middle;\n",
       "    }\n",
       "\n",
       "    .dataframe tbody tr th {\n",
       "        vertical-align: top;\n",
       "    }\n",
       "\n",
       "    .dataframe thead th {\n",
       "        text-align: right;\n",
       "    }\n",
       "</style>\n",
       "<table border=\"1\" class=\"dataframe\">\n",
       "  <thead>\n",
       "    <tr style=\"text-align: right;\">\n",
       "      <th></th>\n",
       "      <th>0</th>\n",
       "      <th>1</th>\n",
       "      <th>2</th>\n",
       "      <th>3</th>\n",
       "      <th>4</th>\n",
       "      <th>5</th>\n",
       "      <th>6</th>\n",
       "      <th>7</th>\n",
       "      <th>8</th>\n",
       "      <th>9</th>\n",
       "      <th>10</th>\n",
       "    </tr>\n",
       "  </thead>\n",
       "  <tbody>\n",
       "    <tr>\n",
       "      <th>0</th>\n",
       "      <td>Rank</td>\n",
       "      <td>Name</td>\n",
       "      <td>Platform</td>\n",
       "      <td>Year</td>\n",
       "      <td>Genre</td>\n",
       "      <td>Publisher</td>\n",
       "      <td>NA_Sales</td>\n",
       "      <td>EU_Sales</td>\n",
       "      <td>JP_Sales</td>\n",
       "      <td>Other_Sales</td>\n",
       "      <td>Global_Sales</td>\n",
       "    </tr>\n",
       "    <tr>\n",
       "      <th>1</th>\n",
       "      <td>1</td>\n",
       "      <td>Wii Sports</td>\n",
       "      <td>Wii</td>\n",
       "      <td>2006</td>\n",
       "      <td>Sports</td>\n",
       "      <td>Nintendo</td>\n",
       "      <td>41.49</td>\n",
       "      <td>29.02</td>\n",
       "      <td>3.77</td>\n",
       "      <td>8.46</td>\n",
       "      <td>82.74</td>\n",
       "    </tr>\n",
       "    <tr>\n",
       "      <th>2</th>\n",
       "      <td>2</td>\n",
       "      <td>Super Mario Bros.</td>\n",
       "      <td>NES</td>\n",
       "      <td>1985</td>\n",
       "      <td>Platform</td>\n",
       "      <td>Nintendo</td>\n",
       "      <td>29.08</td>\n",
       "      <td>3.58</td>\n",
       "      <td>6.81</td>\n",
       "      <td>0.77</td>\n",
       "      <td>40.24</td>\n",
       "    </tr>\n",
       "    <tr>\n",
       "      <th>3</th>\n",
       "      <td>3</td>\n",
       "      <td>Mario Kart Wii</td>\n",
       "      <td>Wii</td>\n",
       "      <td>2008</td>\n",
       "      <td>Racing</td>\n",
       "      <td>Nintendo</td>\n",
       "      <td>15.85</td>\n",
       "      <td>12.88</td>\n",
       "      <td>3.79</td>\n",
       "      <td>3.31</td>\n",
       "      <td>35.82</td>\n",
       "    </tr>\n",
       "    <tr>\n",
       "      <th>4</th>\n",
       "      <td>4</td>\n",
       "      <td>Wii Sports Resort</td>\n",
       "      <td>Wii</td>\n",
       "      <td>2009</td>\n",
       "      <td>Sports</td>\n",
       "      <td>Nintendo</td>\n",
       "      <td>15.75</td>\n",
       "      <td>11.01</td>\n",
       "      <td>3.28</td>\n",
       "      <td>2.96</td>\n",
       "      <td>33</td>\n",
       "    </tr>\n",
       "  </tbody>\n",
       "</table>\n",
       "</div>"
      ],
      "text/plain": [
       "     0                  1         2     3         4          5         6   \\\n",
       "0  Rank               Name  Platform  Year     Genre  Publisher  NA_Sales   \n",
       "1     1         Wii Sports       Wii  2006    Sports   Nintendo     41.49   \n",
       "2     2  Super Mario Bros.       NES  1985  Platform   Nintendo     29.08   \n",
       "3     3     Mario Kart Wii       Wii  2008    Racing   Nintendo     15.85   \n",
       "4     4  Wii Sports Resort       Wii  2009    Sports   Nintendo     15.75   \n",
       "\n",
       "         7         8            9             10  \n",
       "0  EU_Sales  JP_Sales  Other_Sales  Global_Sales  \n",
       "1     29.02      3.77         8.46         82.74  \n",
       "2      3.58      6.81         0.77         40.24  \n",
       "3     12.88      3.79         3.31         35.82  \n",
       "4     11.01      3.28         2.96            33  "
      ]
     },
     "execution_count": 3,
     "metadata": {},
     "output_type": "execute_result"
    }
   ],
   "source": [
    "df.head()"
   ]
  },
  {
   "cell_type": "markdown",
   "metadata": {},
   "source": [
    "# Prepare Data"
   ]
  },
  {
   "cell_type": "code",
   "execution_count": 4,
   "metadata": {},
   "outputs": [],
   "source": [
    "# Set the column names \n",
    "    # had to do this because column names became first row\n",
    "df.columns = df.iloc[0]"
   ]
  },
  {
   "cell_type": "code",
   "execution_count": 5,
   "metadata": {},
   "outputs": [
    {
     "data": {
      "text/html": [
       "<div>\n",
       "<style scoped>\n",
       "    .dataframe tbody tr th:only-of-type {\n",
       "        vertical-align: middle;\n",
       "    }\n",
       "\n",
       "    .dataframe tbody tr th {\n",
       "        vertical-align: top;\n",
       "    }\n",
       "\n",
       "    .dataframe thead th {\n",
       "        text-align: right;\n",
       "    }\n",
       "</style>\n",
       "<table border=\"1\" class=\"dataframe\">\n",
       "  <thead>\n",
       "    <tr style=\"text-align: right;\">\n",
       "      <th></th>\n",
       "      <th>Rank</th>\n",
       "      <th>Name</th>\n",
       "      <th>Platform</th>\n",
       "      <th>Year</th>\n",
       "      <th>Genre</th>\n",
       "      <th>Publisher</th>\n",
       "      <th>NA_Sales</th>\n",
       "      <th>EU_Sales</th>\n",
       "      <th>JP_Sales</th>\n",
       "      <th>Other_Sales</th>\n",
       "      <th>Global_Sales</th>\n",
       "    </tr>\n",
       "  </thead>\n",
       "  <tbody>\n",
       "    <tr>\n",
       "      <th>3670</th>\n",
       "      <td>3671</td>\n",
       "      <td>Soccer Tsuku 2002: J-League Pro Soccer Club o ...</td>\n",
       "      <td>PS2</td>\n",
       "      <td>2002</td>\n",
       "      <td>Sports</td>\n",
       "      <td>Sega</td>\n",
       "      <td>0</td>\n",
       "      <td>0</td>\n",
       "      <td>0.55</td>\n",
       "      <td>0</td>\n",
       "      <td>0.55</td>\n",
       "    </tr>\n",
       "  </tbody>\n",
       "</table>\n",
       "</div>"
      ],
      "text/plain": [
       "0     Rank                                               Name Platform  Year  \\\n",
       "3670  3671  Soccer Tsuku 2002: J-League Pro Soccer Club o ...      PS2  2002   \n",
       "\n",
       "0      Genre Publisher NA_Sales EU_Sales JP_Sales Other_Sales Global_Sales  \n",
       "3670  Sports      Sega        0        0     0.55           0         0.55  "
      ]
     },
     "execution_count": 5,
     "metadata": {},
     "output_type": "execute_result"
    }
   ],
   "source": [
    "df.sample()"
   ]
  },
  {
   "cell_type": "code",
   "execution_count": 6,
   "metadata": {},
   "outputs": [],
   "source": [
    "# set the index of the dataframe\n",
    "df = df.set_index('Name')"
   ]
  },
  {
   "cell_type": "code",
   "execution_count": 7,
   "metadata": {},
   "outputs": [
    {
     "data": {
      "text/html": [
       "<div>\n",
       "<style scoped>\n",
       "    .dataframe tbody tr th:only-of-type {\n",
       "        vertical-align: middle;\n",
       "    }\n",
       "\n",
       "    .dataframe tbody tr th {\n",
       "        vertical-align: top;\n",
       "    }\n",
       "\n",
       "    .dataframe thead th {\n",
       "        text-align: right;\n",
       "    }\n",
       "</style>\n",
       "<table border=\"1\" class=\"dataframe\">\n",
       "  <thead>\n",
       "    <tr style=\"text-align: right;\">\n",
       "      <th></th>\n",
       "      <th>Rank</th>\n",
       "      <th>Platform</th>\n",
       "      <th>Year</th>\n",
       "      <th>Genre</th>\n",
       "      <th>Publisher</th>\n",
       "      <th>NA_Sales</th>\n",
       "      <th>EU_Sales</th>\n",
       "      <th>JP_Sales</th>\n",
       "      <th>Other_Sales</th>\n",
       "      <th>Global_Sales</th>\n",
       "    </tr>\n",
       "    <tr>\n",
       "      <th>Name</th>\n",
       "      <th></th>\n",
       "      <th></th>\n",
       "      <th></th>\n",
       "      <th></th>\n",
       "      <th></th>\n",
       "      <th></th>\n",
       "      <th></th>\n",
       "      <th></th>\n",
       "      <th></th>\n",
       "      <th></th>\n",
       "    </tr>\n",
       "  </thead>\n",
       "  <tbody>\n",
       "    <tr>\n",
       "      <th>LEGO Rock Raiders</th>\n",
       "      <td>10658</td>\n",
       "      <td>PS</td>\n",
       "      <td>1999</td>\n",
       "      <td>Strategy</td>\n",
       "      <td>LEGO Media</td>\n",
       "      <td>0.06</td>\n",
       "      <td>0.04</td>\n",
       "      <td>0</td>\n",
       "      <td>0.01</td>\n",
       "      <td>0.1</td>\n",
       "    </tr>\n",
       "  </tbody>\n",
       "</table>\n",
       "</div>"
      ],
      "text/plain": [
       "0                   Rank Platform  Year     Genre   Publisher NA_Sales  \\\n",
       "Name                                                                     \n",
       "LEGO Rock Raiders  10658       PS  1999  Strategy  LEGO Media     0.06   \n",
       "\n",
       "0                 EU_Sales JP_Sales Other_Sales Global_Sales  \n",
       "Name                                                          \n",
       "LEGO Rock Raiders     0.04        0        0.01          0.1  "
      ]
     },
     "execution_count": 7,
     "metadata": {},
     "output_type": "execute_result"
    }
   ],
   "source": [
    "df.sample()"
   ]
  },
  {
   "cell_type": "code",
   "execution_count": null,
   "metadata": {},
   "outputs": [],
   "source": [
    "df.head()"
   ]
  },
  {
   "cell_type": "code",
   "execution_count": null,
   "metadata": {},
   "outputs": [],
   "source": [
    "df.Year.value_counts()"
   ]
  },
  {
   "cell_type": "code",
   "execution_count": null,
   "metadata": {},
   "outputs": [],
   "source": [
    "df.isnull().sum()"
   ]
  },
  {
   "cell_type": "code",
   "execution_count": null,
   "metadata": {},
   "outputs": [],
   "source": [
    "df.shape"
   ]
  },
  {
   "cell_type": "code",
   "execution_count": null,
   "metadata": {},
   "outputs": [],
   "source": [
    "df.info()"
   ]
  },
  {
   "cell_type": "code",
   "execution_count": null,
   "metadata": {},
   "outputs": [],
   "source": [
    "df.describe()"
   ]
  },
  {
   "cell_type": "markdown",
   "metadata": {},
   "source": []
  },
  {
   "cell_type": "code",
   "execution_count": null,
   "metadata": {},
   "outputs": [],
   "source": [
    "# drop N/A values\n",
    "df = df[~df['Year'].isin(['N/A'])]"
   ]
  },
  {
   "cell_type": "code",
   "execution_count": null,
   "metadata": {},
   "outputs": [],
   "source": [
    "# Change data types\n",
    "df['Year'] = df['Year'].astype(int)\n",
    "df['Global_Sales'] = df['Global_Sales'].astype(float)"
   ]
  },
  {
   "cell_type": "code",
   "execution_count": null,
   "metadata": {},
   "outputs": [],
   "source": [
    "# dropping these because they feed right into our target and Name is not needed\n",
    "df = df.drop(['NA_Sales', 'EU_Sales', \n",
    "             'JP_Sales', 'Other_Sales', 'Name'], axis=1)\n"
   ]
  },
  {
   "cell_type": "code",
   "execution_count": null,
   "metadata": {},
   "outputs": [],
   "source": [
    "df.Year.max()"
   ]
  },
  {
   "cell_type": "code",
   "execution_count": null,
   "metadata": {},
   "outputs": [],
   "source": [
    "df['years_binned'] = pd.cut(df.Year, \n",
    "                            bins = [1980,1985,1990,1995,2000,2005,2010,2015,2020],\n",
    "                            labels = ['80-85', '85-90', '90-95', \"95-00's\", \n",
    "                                      \"00's-05\", '05-10', '10-15', '15-20'])"
   ]
  },
  {
   "cell_type": "code",
   "execution_count": null,
   "metadata": {},
   "outputs": [],
   "source": [
    "df.Global_Sales.max()"
   ]
  },
  {
   "cell_type": "code",
   "execution_count": null,
   "metadata": {},
   "outputs": [],
   "source": [
    "df.Global_Sales.unique()"
   ]
  },
  {
   "cell_type": "code",
   "execution_count": null,
   "metadata": {},
   "outputs": [],
   "source": [
    "# bin the year column to help exploration\n",
    "df['level_of_success'] = pd.cut(df.Global_Sales, \n",
    "                        bins = [0,0.1,0.5,0.9,100],\n",
    "                        labels = ['Moderate Success', 'Fairly Successful', 'Very Successful', \n",
    "                                  'Extremely Successful'])"
   ]
  },
  {
   "cell_type": "code",
   "execution_count": null,
   "metadata": {},
   "outputs": [],
   "source": [
    "df.head()"
   ]
  },
  {
   "cell_type": "code",
   "execution_count": null,
   "metadata": {},
   "outputs": [],
   "source": [
    "df.Global_Sales.max()"
   ]
  },
  {
   "cell_type": "markdown",
   "metadata": {},
   "source": [
    "Takeaways:\n",
    "- There was a HUGE spike in sales in the 2000's and continued to grow until there was a steady decline starting near 2010."
   ]
  },
  {
   "cell_type": "markdown",
   "metadata": {},
   "source": [
    "df.Platform.value_counts()"
   ]
  },
  {
   "cell_type": "code",
   "execution_count": null,
   "metadata": {},
   "outputs": [],
   "source": [
    "# Sony\n",
    "df['Platform'] = df.Platform.replace('PS2','Playstation')\n",
    "df['Platform'] = df.Platform.replace('PS3','Playstation')\n",
    "df['Platform'] = df.Platform.replace('PSP','Playstation')\n",
    "df['Platform'] = df.Platform.replace('PS','Playstation')\n",
    "df['Platform'] = df.Platform.replace('PS4','Playstation')\n",
    "# Xbox\n",
    "df['Platform'] = df.Platform.replace('X360','Xbox')\n",
    "df['Platform'] = df.Platform.replace('XB','Xbox')\n",
    "df['Platform'] = df.Platform.replace('XOne','Xbox')\n",
    "# Nintendo\n",
    "df['Platform'] = df.Platform.replace('DS','Nintendo')\n",
    "df['Platform'] = df.Platform.replace('Wii','Nintendo')\n",
    "df['Platform'] = df.Platform.replace('GB','Nintendo')\n",
    "df['Platform'] = df.Platform.replace('GC','Nintendo')\n",
    "df['Platform'] = df.Platform.replace('3DS','Nintendo')\n",
    "df['Platform'] = df.Platform.replace('SNES','Nintendo')\n",
    "df['Platform'] = df.Platform.replace('WiiU','Nintendo')\n",
    "df['Platform'] = df.Platform.replace('NES','Nintendo')\n",
    "df['Platform'] = df.Platform.replace('Gameboy','Nintendo')\n",
    "df['Platform'] = df.Platform.replace('N64','Nintendo')\n",
    "df['Platform'] = df.Platform.replace('SCD','Nintendo')\n",
    "df['Platform'] = df.Platform.replace('GBA','Nintendo')\n",
    "\n",
    "# Computer\n",
    "df['Platform'] = df.Platform.replace('PC','Computer')\n",
    "df['Platform'] = df.Platform.replace('PSV','Computer')\n",
    "\n",
    "# Sega\n",
    "df['Platform'] = df.Platform.replace('SAT','Sega')\n",
    "df['Platform'] = df.Platform.replace('DC','Sega')\n",
    "df['Platform'] = df.Platform.replace('GEN','Sega')\n",
    "df['Platform'] = df.Platform.replace('GG','Sega')\n",
    "\n",
    "# Other\n",
    "df['Platform'] = df.Platform.replace(2600,'Other')\n",
    "df['Platform'] = df.Platform.replace('NG','Other')\n",
    "df['Platform'] = df.Platform.replace('WS','Other')\n",
    "df['Platform'] = df.Platform.replace('3DO','Other')\n",
    "df['Platform'] = df.Platform.replace('TG16','Other')\n",
    "df['Platform'] = df.Platform.replace('PCFX','Other')"
   ]
  },
  {
   "cell_type": "code",
   "execution_count": null,
   "metadata": {},
   "outputs": [],
   "source": [
    "df.Platform.value_counts()"
   ]
  },
  {
   "cell_type": "code",
   "execution_count": null,
   "metadata": {},
   "outputs": [],
   "source": [
    "# create dummy variables and add them to the df\n",
    "dummy_df =  pd.get_dummies(df['Platform'])\n",
    "dummy_df.columns = ['Nintendo', 'Playstation', 'Xbox', 'Computer', \n",
    "                    'Sega', 'Other']\n",
    "df = pd.concat([df, dummy_df], axis=1)"
   ]
  },
  {
   "cell_type": "code",
   "execution_count": null,
   "metadata": {},
   "outputs": [],
   "source": [
    "df.head()"
   ]
  },
  {
   "cell_type": "code",
   "execution_count": null,
   "metadata": {},
   "outputs": [],
   "source": [
    "df.Genre.value_counts()"
   ]
  },
  {
   "cell_type": "code",
   "execution_count": null,
   "metadata": {},
   "outputs": [],
   "source": [
    "df['Genre'] = df.Genre.replace('Puzzle','Strategy')\n",
    "df['Genre'] = df.Genre.replace('Action','Action-Adventure')\n",
    "df['Genre'] = df.Genre.replace('Adventure','Action-Adventure')\n",
    "df['Genre'] = df.Genre.replace('Fighting','Simulation')\n",
    "df['Genre'] = df.Genre.replace('Racing','Simulation')"
   ]
  },
  {
   "cell_type": "code",
   "execution_count": null,
   "metadata": {},
   "outputs": [],
   "source": [
    "df.Genre.value_counts()"
   ]
  },
  {
   "cell_type": "code",
   "execution_count": null,
   "metadata": {},
   "outputs": [],
   "source": [
    "# create dummy variables and add them to the df\n",
    "dummy_df =  pd.get_dummies(df['Genre'])\n",
    "dummy_df.columns = ['Action-Adventure', 'Simulation', 'Sports', \n",
    "                    'Misc', 'Role-Playing', 'Shooter', \n",
    "                    'Strategy', 'Platform']\n",
    "df = pd.concat([df, dummy_df], axis=1)"
   ]
  },
  {
   "cell_type": "code",
   "execution_count": null,
   "metadata": {},
   "outputs": [],
   "source": [
    "df.head()"
   ]
  },
  {
   "cell_type": "code",
   "execution_count": null,
   "metadata": {},
   "outputs": [],
   "source": [
    "#drop features\n",
    "df = df.drop(['Publisher', 'Platform', 'Genre'], axis=1)"
   ]
  },
  {
   "cell_type": "code",
   "execution_count": null,
   "metadata": {},
   "outputs": [],
   "source": [
    "df.info()"
   ]
  },
  {
   "cell_type": "code",
   "execution_count": null,
   "metadata": {},
   "outputs": [],
   "source": [
    "df.head()"
   ]
  },
  {
   "cell_type": "code",
   "execution_count": null,
   "metadata": {},
   "outputs": [],
   "source": [
    "df.Global_Sales.unique()"
   ]
  },
  {
   "cell_type": "markdown",
   "metadata": {},
   "source": [
    "# Lets see the distribution"
   ]
  },
  {
   "cell_type": "code",
   "execution_count": null,
   "metadata": {},
   "outputs": [],
   "source": [
    "sns.distplot(df['Global_Sales'])"
   ]
  },
  {
   "cell_type": "code",
   "execution_count": null,
   "metadata": {},
   "outputs": [],
   "source": [
    "sns.distplot(df['Year'])"
   ]
  },
  {
   "cell_type": "code",
   "execution_count": null,
   "metadata": {},
   "outputs": [],
   "source": [
    "sns.distplot(df['Global_Sales'])"
   ]
  },
  {
   "cell_type": "code",
   "execution_count": null,
   "metadata": {},
   "outputs": [],
   "source": [
    "sns.distplot(df['Nintendo'])"
   ]
  },
  {
   "cell_type": "code",
   "execution_count": null,
   "metadata": {},
   "outputs": [],
   "source": [
    "df.info()"
   ]
  },
  {
   "cell_type": "code",
   "execution_count": null,
   "metadata": {},
   "outputs": [],
   "source": [
    "train_validate, test = train_test_split(df, test_size=.2, random_state=1234)\n",
    "train, validate = train_test_split(train_validate, test_size=.3, \n",
    "                                       random_state=1234)"
   ]
  },
  {
   "cell_type": "code",
   "execution_count": null,
   "metadata": {},
   "outputs": [],
   "source": [
    "train.head()"
   ]
  },
  {
   "cell_type": "code",
   "execution_count": null,
   "metadata": {},
   "outputs": [],
   "source": [
    "validate.head()"
   ]
  },
  {
   "cell_type": "code",
   "execution_count": null,
   "metadata": {},
   "outputs": [],
   "source": [
    "test.head()"
   ]
  },
  {
   "cell_type": "code",
   "execution_count": null,
   "metadata": {},
   "outputs": [],
   "source": [
    "X_train = train.drop(columns = ['Global_Sales'])\n",
    "y_train = pd.DataFrame(train.Global_Sales)\n",
    "X_validate = validate.drop(columns=['Global_Sales'])\n",
    "y_validate = pd.DataFrame(validate.Global_Sales)\n",
    "X_test = test.drop(columns=['Global_Sales'])\n",
    "y_test = pd.DataFrame(test.Global_Sales)"
   ]
  },
  {
   "cell_type": "code",
   "execution_count": null,
   "metadata": {},
   "outputs": [],
   "source": [
    "X_train.head()"
   ]
  },
  {
   "cell_type": "code",
   "execution_count": null,
   "metadata": {},
   "outputs": [],
   "source": [
    "y_train.head()"
   ]
  },
  {
   "cell_type": "code",
   "execution_count": null,
   "metadata": {},
   "outputs": [],
   "source": [
    "X_validate.head()"
   ]
  },
  {
   "cell_type": "code",
   "execution_count": null,
   "metadata": {},
   "outputs": [],
   "source": [
    "y_validate.head()"
   ]
  },
  {
   "cell_type": "code",
   "execution_count": null,
   "metadata": {},
   "outputs": [],
   "source": [
    "X_test.head()"
   ]
  },
  {
   "cell_type": "code",
   "execution_count": null,
   "metadata": {},
   "outputs": [],
   "source": [
    "y_test.head()"
   ]
  },
  {
   "cell_type": "code",
   "execution_count": null,
   "metadata": {},
   "outputs": [],
   "source": [
    "scale_columns = ['Global_Sales', 'Year']\n",
    "scaler = MinMaxScaler()\n",
    "scaler.fit(train[scale_columns])\n",
    "\n",
    "train_scaled = scaler.transform(train[scale_columns])\n",
    "validate_scaled = scaler.transform(validate[scale_columns])\n",
    "test_scaled = scaler.transform(test[scale_columns])\n",
    "#turn into dataframe\n",
    "train_scaled = pd.DataFrame(train_scaled)\n",
    "validate_scaled = pd.DataFrame(validate_scaled)\n",
    "test_scaled = pd.DataFrame(test_scaled)"
   ]
  },
  {
   "cell_type": "code",
   "execution_count": null,
   "metadata": {},
   "outputs": [],
   "source": [
    "train_scaled.head()"
   ]
  },
  {
   "cell_type": "code",
   "execution_count": null,
   "metadata": {},
   "outputs": [],
   "source": [
    "validate_scaled.head()"
   ]
  },
  {
   "cell_type": "code",
   "execution_count": null,
   "metadata": {},
   "outputs": [],
   "source": [
    "test_scaled.head()"
   ]
  }
 ],
 "metadata": {
  "kernelspec": {
   "display_name": "Python 3",
   "language": "python",
   "name": "python3"
  },
  "language_info": {
   "codemirror_mode": {
    "name": "ipython",
    "version": 3
   },
   "file_extension": ".py",
   "mimetype": "text/x-python",
   "name": "python",
   "nbconvert_exporter": "python",
   "pygments_lexer": "ipython3",
   "version": "3.8.5"
  }
 },
 "nbformat": 4,
 "nbformat_minor": 4
}
